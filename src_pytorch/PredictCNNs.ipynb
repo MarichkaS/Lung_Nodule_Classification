{
 "cells": [
  {
   "cell_type": "code",
   "execution_count": 2,
   "metadata": {},
   "outputs": [],
   "source": [
    "import os\n",
    "import torch\n",
    "import torch.nn as nn\n",
    "import torchvision\n",
    "from torchvision import models\n",
    "from glob import glob\n",
    "from torch.utils.data import DataLoader, Dataset\n",
    "import numpy as np\n",
    "from torchsummary import summary\n",
    "import torch.nn.functional as F\n",
    "import torch.utils.data as utils\n",
    "from tqdm import tqdm\n",
    "from os.path import isfile, join\n",
    "from os import listdir\n",
    "import datetime\n",
    "import pandas as pd\n",
    "import time, copy\n",
    "from models_pytorch import CNNT5, CNNT4\n",
    "from vgg_pytorch import vgg11\n",
    "from data_preprocessing.dataloaders_pytorch import LUNA_Dataset\n",
    "from test_tools import model_predict\n",
    "\n",
    "LOGS = '/home.stud/dobkomar/NoduleDetection/logs/'\n",
    "\n",
    "\n",
    "def get_free_gpu():\n",
    "    os.system('nvidia-smi -q -d Memory |grep -A4 GPU|grep Free >tmp')\n",
    "    memory_available = [int(x.split()[2]) for x in open('tmp', 'r').readlines()]\n",
    "    print(memory_available)\n",
    "    os.remove('tmp')\n",
    "    return np.argmax(memory_available)"
   ]
  },
  {
   "cell_type": "code",
   "execution_count": 3,
   "metadata": {},
   "outputs": [],
   "source": [
    "data = pd.read_csv('/home.stud/dobkomar/data/test_D1.csv')\n",
    "\n",
    "\n",
    "# IF 2-D DATASET\n",
    "test_dataset = LUNA_Dataset(data)\n",
    "\n",
    "# ELIF 3-D DATASET\n",
    "# test_dataset = LUNA_Dataset_3D(data)\n",
    "\n",
    "test_loader = utils.DataLoader(test_dataset, batch_size=1, shuffle=False)"
   ]
  },
  {
   "cell_type": "markdown",
   "metadata": {},
   "source": [
    "### set GPU mode"
   ]
  },
  {
   "cell_type": "code",
   "execution_count": 4,
   "metadata": {},
   "outputs": [
    {
     "name": "stdout",
     "output_type": "stream",
     "text": [
      "[10659, 259, 11168, 11168, 395, 395, 395, 395]\n"
     ]
    }
   ],
   "source": [
    "device = torch.device(\"cuda:{}\".format(get_free_gpu()))"
   ]
  },
  {
   "cell_type": "markdown",
   "metadata": {},
   "source": [
    "# Prediction"
   ]
  },
  {
   "cell_type": "code",
   "execution_count": 5,
   "metadata": {},
   "outputs": [],
   "source": [
    "# IF VGG:\n",
    "\n",
    "# model_conv = torchvision.models.vgg11(pretrained=False)\n",
    "\n",
    "# num_features = model_conv.classifier[6].in_features\n",
    "# features = list(model_conv.classifier.children())[:-1]\n",
    "# model_conv = model_conv.to(device)\n",
    "# features[0] = nn.Linear(512, 4096)\n",
    "# features.extend([nn.Linear(4096, 2)])\n",
    "# model_conv.classifier = nn.Sequential(*features)\n",
    "\n",
    "\n",
    "# ALL OTHER MODELS\n",
    "\n",
    "model_conv = CNNT4()\n",
    "\n",
    "path_weights = LOGS + 'CNNT4_D1.pt'\n",
    "model_conv.load_state_dict(torch.load(path_weights))\n",
    "model_conv.to(device)\n",
    "\n",
    "\n",
    "TEST = 'test'\n",
    "image_datasets = {\n",
    "    'test': test_dataset\n",
    "}\n",
    "dataloaders_dict = {'test': test_loader}\n",
    "dataset_sizes = {x: len(image_datasets[x]) for x in [TEST]}\n",
    "\n",
    "recall_test, acc_test = predict_model(model_conv, dataloaders_dict)\n",
    "print([recall_test, acc_test])\n"
   ]
  },
  {
   "cell_type": "code",
   "execution_count": null,
   "metadata": {},
   "outputs": [],
   "source": []
  }
 ],
 "metadata": {
  "kernelspec": {
   "display_name": "Python 3",
   "language": "python",
   "name": "python3"
  },
  "language_info": {
   "codemirror_mode": {
    "name": "ipython",
    "version": 3
   },
   "file_extension": ".py",
   "mimetype": "text/x-python",
   "name": "python",
   "nbconvert_exporter": "python",
   "pygments_lexer": "ipython3",
   "version": "3.5.3"
  }
 },
 "nbformat": 4,
 "nbformat_minor": 2
}
