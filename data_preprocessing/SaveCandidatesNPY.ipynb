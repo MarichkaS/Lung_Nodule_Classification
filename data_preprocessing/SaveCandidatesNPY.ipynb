{
 "cells": [
  {
   "cell_type": "code",
   "execution_count": 2,
   "metadata": {},
   "outputs": [],
   "source": [
    "from __future__ import print_function, division\n",
    "import SimpleITK as sitk\n",
    "import numpy as np\n",
    "import os\n",
    "from glob import glob\n",
    "import pandas as pd\n",
    "from tqdm import tqdm\n",
    "import numpy as np\n",
    "from load_tools import get_cube_from_img, load_itk_version2"
   ]
  },
  {
   "cell_type": "code",
   "execution_count": null,
   "metadata": {},
   "outputs": [],
   "source": [
    "num_subsets = 10\n",
    "image_size = 32\n",
    "\n",
    "for subsetindex in tqdm(range(num_subsets)):\n",
    "    luna_path = \"/datagrid/Medical/nodules/Luna/\"\n",
    "    luna_subset_path = luna_path + \"subset\" + str(subsetindex) + \"/\"\n",
    "    output_path = \"/datagrid/temporary/dobkomar/output_path_32/\"\n",
    "    file_list = glob(luna_subset_path + \"*.mhd\")\n",
    "\n",
    "    luna_csv_path = \"/datagrid/Medical/nodules/Luna/\"\n",
    "    df_node = pd.read_csv('/home.stud/dobkomar/candidates_V2.csv')\n",
    "    df_node[\"file\"] = df_node[\"seriesuid\"].map(lambda file_name: [f for f in file_list if file_name in f][0])\n",
    "    df_node = df_node.dropna()\n",
    "    \n",
    "    \n",
    "    for fcount, img_file in enumerate(tqdm(file_list)):\n",
    "        temp_df = df_node[df_node[\"file\"] == img_file]\n",
    "\n",
    "        if temp_df.shape[0] > 0:\n",
    "            img_array, origin, spacing = load_itk_version2(img_file)\n",
    "\n",
    "            index = 0\n",
    "            for node_idx, row in temp_df.iterrows():\n",
    "                x, y, z = row[\"coordX\"], row[\"coordY\"], row[\"coordZ\"]\n",
    "                label = row[\"class\"]\n",
    "\n",
    "                center = np.array([x, y, z])\n",
    "                v_center = np.rint((center - origin) / spacing)\n",
    "                \n",
    "                # convert x,y,z order  to z,y,x  \n",
    "                v_center[0], v_center[1], v_center[2] = v_center[2], v_center[1], v_center[0]\n",
    "                \n",
    "                node_cube = get_cube_from_img(img_array, v_center, image_size)\n",
    "                node_cube.astype(np.uint8)\n",
    "\n",
    "                if label == 1:\n",
    "                    filepath = output_path + \"1/\"\n",
    "                    if not os.path.exists(filepath):\n",
    "                        os.makedirs(filepath)\n",
    "                    filename = str(subsetindex) + \"_\" + str(fcount) + \"_\" + str(index) + '_' + str(row['seriesuid']) + '_' + str(x) + '_' + str(y) + '_' + str(z) +'_'+ str(label)  \n",
    "                    np.save(filepath + filename + \".npy\", node_cube)\n",
    "\n",
    "                if label == 0:\n",
    "                    filepath = output_path + \"0/\"\n",
    "                    if not os.path.exists(filepath):\n",
    "                        os.makedirs(filepath)\n",
    "                    filename = str(subsetindex) + \"_\" + str(fcount) + \"_\" + str(index) + '_' + str(row['seriesuid']) + '_' + str(x) + '_' + str(y) + '_' + str(z) +'_'+ str(label)   \n",
    "                    np.save(filepath + filename + \".npy\", node_cube)\n",
    "                index += 1\n"
   ]
  }
 ],
 "metadata": {
  "kernelspec": {
   "display_name": "Python 3",
   "language": "python",
   "name": "python3"
  },
  "language_info": {
   "codemirror_mode": {
    "name": "ipython",
    "version": 3
   },
   "file_extension": ".py",
   "mimetype": "text/x-python",
   "name": "python",
   "nbconvert_exporter": "python",
   "pygments_lexer": "ipython3",
   "version": "3.5.3"
  }
 },
 "nbformat": 4,
 "nbformat_minor": 2
}
